{
 "cells": [
  {
   "cell_type": "markdown",
   "metadata": {},
   "source": [
    "# Twitter\n",
    "In this notebook we write a mini-Twitter program in Python. This program which gets tweets from the users and stores them in a dictionary. It uses the dictionary to give information back to the users if they want to see the most recent tweets or the tweets of a particular person.\n",
    "\n",
    "This program is also a good example of a more general kind of app. You could use this for a lost-and-found app, or ride sharing app, etc.\n",
    "\n",
    "The main loop gets commands from the users and processes them by accesing and modifying the shared data (a dictionary). We store tweets as a list of dictionaries...."
   ]
  },
  {
   "cell_type": "markdown",
   "metadata": {
    "collapsed": false
   },
   "source": [
    "We also learn how to work with dates and time in Python!"
   ]
  },
  {
   "cell_type": "markdown",
   "metadata": {},
   "source": [
    "# User Interaction Loop\n",
    "Next we sketch out the structure of a general program that interacts with users. You could imagine this program installed on a public computer screen or kiosk where a stream of people come up and interact with it. As our example, we'll write a program for a multi-person twitter-like application where people can make tweets or follow tweets of others.\n",
    "\n",
    "\n",
    "Here is the top level program, main()"
   ]
  },
  {
   "cell_type": "code",
   "execution_count": null,
   "metadata": {
    "collapsed": false
   },
   "outputs": [],
   "source": [
    "\n",
    "\n",
    "db={}  # this is our top level dictionary holding all persistent data for our app\n",
    "\n",
    "def main():\n",
    "    db['tweets']=[] \n",
    "    user_input = get_user_input()\n",
    "    while user_input != 'quit':\n",
    "        process_command(user_input)\n",
    "        user_input = get_user_input()\n",
    "\n",
    "def process_command(command):\n",
    "    if command==\"help\":\n",
    "        print(\"this is just a stub\")\n",
    "    elif command==\"quit\":\n",
    "        print(\"bye\")\n",
    "    else:\n",
    "        print(\"I don't understand the command: \"+command)\n",
    "\n",
    "def get_user_input():\n",
    "    command = input(\">> \")\n",
    "    return command\n",
    "\n",
    "main()"
   ]
  },
  {
   "cell_type": "markdown",
   "metadata": {},
   "source": [
    "# Commands\n",
    "Our MVP responds to two commands: help and quit\n",
    "Lets try to get it to respond to the following additional commands:\n",
    " * tweet - which will ask the user for a line of text and their name and will get the date/time and store in database\n",
    " * tweeters - which will print a list of the tweeters\n",
    " * follow - which will ask for a name and print the tweets of that person\n",
    " * recent - which shows the last 10 tweets\n",
    "For now we just add these commands to the process_command function"
   ]
  },
  {
   "cell_type": "code",
   "execution_count": null,
   "metadata": {
    "collapsed": false
   },
   "outputs": [],
   "source": [
    "def process_command(command):\n",
    "    if command==\"help\":\n",
    "        print(\"this is just a stub\")\n",
    "    elif command==\"quit\":\n",
    "        print(\"bye\")\n",
    "    elif command==\"tweet\":\n",
    "        print('not yet implemented: '+command)\n",
    "    elif command==\"tweeters\":\n",
    "        print('not yet implemented: '+command)\n",
    "    elif command==\"follow\":\n",
    "        print('not yet implemented: '+command)\n",
    "    elif command==\"recent\":\n",
    "        print('not yet implemented: '+command)\n",
    "    else:\n",
    "        print(\"I don't understand the command: \"+command)\n",
    "\n",
    "main()"
   ]
  },
  {
   "cell_type": "markdown",
   "metadata": {},
   "source": [
    "# Database design\n",
    "So what do we need to store for a tweet? How about the author's pseudonym, the date/time, and the text in a dictionary like this\n",
    "\n",
    "      {'name':\"TJ\", \"date\":today(), 'text':\"Life is good\"}\n",
    "\n",
    "and we will keep a list of these tweets in the database under the key tweets:\n",
    "\n",
    "      db['tweets']=[]\n",
    "\n",
    "We can get the current time using the datetime package.  The strftime method lets us specify the format of the date in terms of the month, day, year (mdy) and the hours and minutes (HM) and lots of other fields:\n",
    "     https://docs.python.org/3/library/datetime.html"
   ]
  },
  {
   "cell_type": "code",
   "execution_count": null,
   "metadata": {
    "collapsed": false
   },
   "outputs": [],
   "source": [
    "from datetime import *\n",
    "now = datetime.today()\n",
    "print('the raw form of today is',now)\n",
    "print('the current time is',now.strftime(\"%m/%d/%y %H:%M\"))\n",
    "print('the European style is',now.strftime(\"%m/%d/%y %H:%M\"))"
   ]
  },
  {
   "cell_type": "markdown",
   "metadata": {},
   "source": [
    "# Getting a tweet\n",
    "Lets look at the code for getting a tweet, storing it in the database, and printing the tweets\n"
   ]
  },
  {
   "cell_type": "code",
   "execution_count": null,
   "metadata": {
    "collapsed": false
   },
   "outputs": [],
   "source": [
    "\n",
    "from datetime import *\n",
    "\n",
    "#db={}\n",
    "\n",
    "def main():\n",
    "    global db\n",
    "    #db['tweets']=[] \n",
    "    user_input = get_user_input()\n",
    "    while user_input != 'quit':\n",
    "        process_command(user_input)\n",
    "        user_input = get_user_input()\n",
    "\n",
    "\n",
    "def get_user_input():\n",
    "    command = input(\">> \")\n",
    "    return command\n",
    "\n",
    "def get_tweet():\n",
    "    global db\n",
    "    name = input(\"tweeter's name: \")\n",
    "    text = input(\"your tweet: \")\n",
    "    now = datetime.today()\n",
    "    tweet = {'date':now, 'name':name, 'text':text }\n",
    "    db['tweets'].append(tweet)\n",
    "\n",
    "def show_recent():\n",
    "    tweets = db['tweets']\n",
    "    for x in tweets[-3:]:\n",
    "        print(x)\n",
    "        \n",
    "def print_tweeters():\n",
    "    tweeters = {tweet['name'] for tweet in db['tweets']}\n",
    "    for t in tweeters:\n",
    "        print(t)\n",
    "        \n",
    "def follow():\n",
    "    name = input(\"who do you want to follow?\");\n",
    "    # now find the list of all tweets by that person and print them...\n",
    "    tweets = db['tweets']\n",
    "    their_tweets = [x for x in tweets if x['name']==name]\n",
    "    for t in their_tweets:\n",
    "        print(t)\n",
    "        \n",
    "def process_command(command):\n",
    "    if command==\"help\":\n",
    "        print(\"this is just a stub\")\n",
    "    elif command==\"quit\":\n",
    "        print(\"bye\")\n",
    "    elif command==\"tweet\":\n",
    "        get_tweet()\n",
    "    elif command==\"tweeters\":\n",
    "        print_tweeters()\n",
    "    elif command==\"recent\":\n",
    "        show_recent()\n",
    "    elif command==\"follow\":\n",
    "        follow()\n",
    "    else:\n",
    "        print(\"I don't understand the command: \"+command)\n",
    "\n",
    "main()\n"
   ]
  },
  {
   "cell_type": "markdown",
   "metadata": {
    "collapsed": true
   },
   "source": [
    "# Next steps \n",
    "Lets continue now to get the tweeters and the follow commands working and to fix the recents command ...\n"
   ]
  },
  {
   "cell_type": "code",
   "execution_count": null,
   "metadata": {
    "collapsed": true
   },
   "outputs": [],
   "source": []
  },
  {
   "cell_type": "markdown",
   "metadata": {},
   "source": [
    "# Databases\n",
    "We can actually store the dictionary data in a folder that survives even after the python program is quit. \n",
    "The data is stored in a persistence database (i.e. a folder in the same directory as the program) so that when the python program is stopped and started again later, the data is still there. We do this using the \"shelve\" package.\n",
    "    https://docs.python.org/3/library/shelve.html\n",
    "From the programmers point of view, the database looks like a dictionary.\n",
    "\n",
    "Let's start by importing the shelve package and creating a shelve database. You need to give it a file name which will be used to create a folder where the data will be stored. The writeback option tells it to make a change to the database stored in the folder everytime the dictionary is changed.\n",
    "We do this with the \"shelve\" package as follows:\n",
    "\n",
    "\n",
    "      import shelve\n",
    "      db = shelve.open('database',writeback=True)\n",
    "      if not 'tweets' in db:\n",
    "          db['tweets']=[]  # this could be a file of tweets\n",
    "\n",
    "      print(db['tweets'])\n",
    "\n",
    "where db variable can be treated just as a regular dictionary, but python stores its information in the folder called \"database\""
   ]
  },
  {
   "cell_type": "code",
   "execution_count": null,
   "metadata": {
    "collapsed": true
   },
   "outputs": [],
   "source": []
  }
 ],
 "metadata": {
  "kernelspec": {
   "display_name": "Python 3",
   "language": "python",
   "name": "python3"
  },
  "language_info": {
   "codemirror_mode": {
    "name": "ipython",
    "version": 3
   },
   "file_extension": ".py",
   "mimetype": "text/x-python",
   "name": "python",
   "nbconvert_exporter": "python",
   "pygments_lexer": "ipython3",
   "version": "3.6.0"
  }
 },
 "nbformat": 4,
 "nbformat_minor": 1
}
